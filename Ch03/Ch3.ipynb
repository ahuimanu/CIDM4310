{
 "cells": [
  {
   "cell_type": "markdown",
   "id": "8c007666-4e87-42ea-989a-0e1f75501404",
   "metadata": {},
   "source": [
    "# This is my Chapter 03 Notebook"
   ]
  },
  {
   "cell_type": "code",
   "execution_count": 1,
   "id": "d600994f-defb-47cd-a738-1ddfa4924161",
   "metadata": {},
   "outputs": [
    {
     "name": "stdout",
     "output_type": "stream",
     "text": [
      "hello world!\n"
     ]
    }
   ],
   "source": [
    "import os\n",
    "print (\"hello world!\")"
   ]
  }
 ],
 "metadata": {
  "kernelspec": {
   "display_name": "Python 3",
   "language": "python",
   "name": "python3"
  },
  "language_info": {
   "codemirror_mode": {
    "name": "ipython",
    "version": 3
   },
   "file_extension": ".py",
   "mimetype": "text/x-python",
   "name": "python",
   "nbconvert_exporter": "python",
   "pygments_lexer": "ipython3",
   "version": "3.9.5"
  }
 },
 "nbformat": 4,
 "nbformat_minor": 5
}
