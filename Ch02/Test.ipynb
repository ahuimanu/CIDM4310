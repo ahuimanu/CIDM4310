{
 "cells": [
  {
   "cell_type": "markdown",
   "id": "37d1a040-16d1-487d-a5eb-69d423a6685d",
   "metadata": {},
   "source": [
    "# This is a comment"
   ]
  },
  {
   "cell_type": "code",
   "execution_count": 1,
   "id": "087ed7e8-c88f-461c-a437-a91a4375095d",
   "metadata": {},
   "outputs": [
    {
     "name": "stdout",
     "output_type": "stream",
     "text": [
      "Hello world\n"
     ]
    }
   ],
   "source": [
    "# showing some notes\n",
    "import os\n",
    "print(\"Hello world\")"
   ]
  },
  {
   "cell_type": "markdown",
   "id": "0a638c7e-5988-474e-9488-3b76994fb197",
   "metadata": {},
   "source": [
    "## We can run other python modules from the notebook"
   ]
  },
  {
   "cell_type": "code",
   "execution_count": 2,
   "id": "65faf318-3434-4254-b24d-93381374b69e",
   "metadata": {},
   "outputs": [
    {
     "name": "stdout",
     "output_type": "stream",
     "text": [
      "the data types of the data: [('time', '<U23'), ('place', '<U37'), ('magType', '<U3'), ('mag', '<f8'), ('alert', '<U5'), ('tsunami', '<i4')]\n",
      "Place: ('2018-10-13 11:10:23.560', '262km NW of Ozernovskiy, Russia', 'mww', 6.7, 'green', 1)\n",
      "Place: ('2018-10-13 04:34:15.580', '25km E of Bitung, Indonesia', 'mww', 5.2, 'green', 0)\n",
      "Place: ('2018-10-13 00:13:46.220', '42km WNW of Sola, Vanuatu', 'mww', 5.7, 'green', 0)\n",
      "Place: ('2018-10-12 21:09:49.240', '13km E of Nueva Concepcion, Guatemala', 'mww', 5.7, 'green', 0)\n",
      "Place: ('2018-10-12 02:52:03.620', '128km SE of Kimbe, Papua New Guinea', 'mww', 5.6, 'green', 1)\n"
     ]
    }
   ],
   "source": [
    "run ch02.py"
   ]
  },
  {
   "cell_type": "code",
   "execution_count": null,
   "id": "f2deb0aa-05f4-4250-85b1-9541774bdd12",
   "metadata": {},
   "outputs": [],
   "source": []
  }
 ],
 "metadata": {
  "kernelspec": {
   "display_name": "Python 3",
   "language": "python",
   "name": "python3"
  },
  "language_info": {
   "codemirror_mode": {
    "name": "ipython",
    "version": 3
   },
   "file_extension": ".py",
   "mimetype": "text/x-python",
   "name": "python",
   "nbconvert_exporter": "python",
   "pygments_lexer": "ipython3",
   "version": "3.9.5"
  }
 },
 "nbformat": 4,
 "nbformat_minor": 5
}
